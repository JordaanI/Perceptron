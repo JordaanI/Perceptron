{
 "cells": [
  {
   "cell_type": "code",
   "execution_count": 61,
   "metadata": {},
   "outputs": [],
   "source": [
    "###############\n",
    "### Imports ###\n",
    "###############\n",
    "\n",
    "import numpy as np\n",
    "import matplotlib.pyplot as plt"
   ]
  },
  {
   "cell_type": "code",
   "execution_count": 210,
   "metadata": {},
   "outputs": [],
   "source": [
    "def generate_square_size(length,height,size):\n",
    "    length = length\n",
    "    height = height\n",
    "    while height > length or length%2 == 0:\n",
    "        length = np.random.randint(1,size)\n",
    "        height = np.random.randint(1,size/2)\n",
    "    return length, height"
   ]
  },
  {
   "cell_type": "code",
   "execution_count": 365,
   "metadata": {},
   "outputs": [
    {
     "data": {
      "text/plain": [
       "<matplotlib.image.AxesImage at 0x19b4194cc70>"
      ]
     },
     "execution_count": 365,
     "metadata": {},
     "output_type": "execute_result"
    },
    {
     "data": {
      "image/png": "[encoded data removed]",
      "text/plain": [
       "<Figure size 432x288 with 1 Axes>"
      ]
     },
     "metadata": {
      "needs_background": "light"
     },
     "output_type": "display_data"
    }
   ],
   "source": [
    "def generate_square(size):\n",
    "    shape = np.zeros((size,size))\n",
    "    length, height = generate_square_size(0,1,size)\n",
    "    start_point = np.random.randint(1,size,(1,2))\n",
    "    lengthsize = start_point[0,0] + length\n",
    "    heightsize = start_point[0,1] + height\n",
    "    while lengthsize > size or heightsize > size or length*height < size**2/10:\n",
    "        length, height = generate_square_size(0,1,size)\n",
    "        start_point = np.random.randint(1,size,(1,2))\n",
    "        lengthsize = start_point[0,0] + length\n",
    "        heightsize = start_point[0,1] + height\n",
    "    lengthside = range(start_point[0,0], lengthsize)\n",
    "    heightside = range(start_point[0,1], heightsize)\n",
    "    for h in heightside:\n",
    "        for l in lengthside:\n",
    "            shape[h,l] = 1\n",
    "    return shape, length, height, start_point\n",
    "\n",
    "plt.imshow(generate_square(500)[0])"
   ]
  },
  {
   "cell_type": "code",
   "execution_count": 362,
   "metadata": {},
   "outputs": [
    {
     "data": {
      "text/plain": [
       "<matplotlib.image.AxesImage at 0x19b41839f40>"
      ]
     },
     "execution_count": 362,
     "metadata": {},
     "output_type": "execute_result"
    },
    {
     "data": {
      "image/png": "[encoded data removed]",
      "text/plain": [
       "<Figure size 432x288 with 1 Axes>"
      ]
     },
     "metadata": {
      "needs_background": "light"
     },
     "output_type": "display_data"
    }
   ],
   "source": [
    "def generate_triangle(size):\n",
    "    shape = np.zeros((size,size))\n",
    "    start_point = np.random.randint(1,size,(1,2))\n",
    "    base = np.random.randint(1,size)\n",
    "    height = (1-base)/-2\n",
    "    lengthsize = start_point[0,0] + base\n",
    "    heightsize = start_point[0,1] + int(height)+1\n",
    "    while base%2 == 0 or lengthsize > size or heightsize > size or base*height/2 < size**2/10:\n",
    "        start_point = np.random.randint(1,size,(1,2))\n",
    "        base = 2*np.random.randint(1,size/2)-1\n",
    "        height = (1-base)/-2\n",
    "        lengthsize = start_point[0,0] + base\n",
    "        heightsize = start_point[0,1] + int(height)+1\n",
    "    lengthside = range(start_point[0,0], lengthsize)\n",
    "    heightside = range(start_point[0,1], heightsize)\n",
    "    for h in heightside:\n",
    "        for l in lengthside:\n",
    "            shape[h,l] = 1\n",
    "        lengthside = lengthside[1:-1]\n",
    "    return shape, base, height, start_point\n",
    "\n",
    "plt.imshow(generate_triangle(500)[0])"
   ]
  },
  {
   "cell_type": "code",
   "execution_count": 383,
   "metadata": {},
   "outputs": [],
   "source": [
    "amount = 1000\n",
    "size = 500\n",
    "squares = []\n",
    "triangles = []\n",
    "for i in range(amount):\n",
    "    squares.append((generate_square(size)[0],0))\n",
    "    triangles.append((generate_triangle(size)[0],1))"
   ]
  },
  {
   "cell_type": "code",
   "execution_count": 402,
   "metadata": {},
   "outputs": [],
   "source": [
    "size = 500\n",
    "weights = np.zeros((size,size))"
   ]
  },
  {
   "cell_type": "code",
   "execution_count": 404,
   "metadata": {},
   "outputs": [
    {
     "data": {
      "text/plain": [
       "0.0"
      ]
     },
     "execution_count": 404,
     "metadata": {},
     "output_type": "execute_result"
    }
   ],
   "source": [
    "np.dot(np.reshape(triangles[90][0],size**2),np.reshape(weights,size**2))"
   ]
  }
 ],
 "metadata": {
  "interpreter": {
   "hash": "4f83d188c93285744c9e231d0e20b204081cd39f5e44132ec4def0ee68076c04"
  },
  "kernelspec": {
   "display_name": "Python 3.9.7 64-bit",
   "language": "python",
   "name": "python3"
  },
  "language_info": {
   "codemirror_mode": {
    "name": "ipython",
    "version": 3
   },
   "file_extension": ".py",
   "mimetype": "text/x-python",
   "name": "python",
   "nbconvert_exporter": "python",
   "pygments_lexer": "ipython3",
   "version": "3.9.7"
  },
  "orig_nbformat": 4
 },
 "nbformat": 4,
 "nbformat_minor": 2
}
